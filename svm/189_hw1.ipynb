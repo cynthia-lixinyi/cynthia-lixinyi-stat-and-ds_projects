{
  "cells": [
    {
      "cell_type": "code",
      "execution_count": 2,
      "metadata": {
        "colab": {
          "base_uri": "https://localhost:8080/"
        },
        "id": "hrejBacScRdv",
        "outputId": "5b706a0c-d442-4680-a566-c5ccfde4ad5f"
      },
      "outputs": [
        {
          "output_type": "stream",
          "name": "stdout",
          "text": [
            "Drive already mounted at /content/gdrive; to attempt to forcibly remount, call drive.mount(\"/content/gdrive\", force_remount=True).\n"
          ]
        }
      ],
      "source": [
        "from google.colab import drive\n",
        "drive.mount('/content/gdrive')"
      ]
    },
    {
      "cell_type": "code",
      "execution_count": 3,
      "metadata": {
        "colab": {
          "base_uri": "https://localhost:8080/"
        },
        "id": "k1Laew7ocxuP",
        "outputId": "dcdb944b-acc5-4cbd-cc5c-d6542adfe2c2"
      },
      "outputs": [
        {
          "output_type": "stream",
          "name": "stdout",
          "text": [
            "/content/gdrive/My Drive/cs189_hw/cs189_hw1/hw1/scripts\n"
          ]
        }
      ],
      "source": [
        "%cd \"/content/gdrive/My Drive/cs189_hw/cs189_hw1/hw1/scripts\""
      ]
    },
    {
      "cell_type": "code",
      "execution_count": 4,
      "metadata": {
        "colab": {
          "base_uri": "https://localhost:8080/"
        },
        "id": "ER02hLWidAsz",
        "outputId": "5bd61095-9fe6-4249-919b-73b458851aa1"
      },
      "outputs": [
        {
          "output_type": "stream",
          "name": "stdout",
          "text": [
            "\n",
            "loaded mnist data!\n",
            "test_data (10000, 1, 28, 28)\n",
            "training_data (60000, 1, 28, 28)\n",
            "training_labels (60000,)\n",
            "\n",
            "loaded spam data!\n",
            "test_data (1000, 32)\n",
            "training_data (4172, 32)\n",
            "training_labels (4172,)\n",
            "\n",
            "loaded cifar10 data!\n",
            "test_data (10000, 3072)\n",
            "training_data (50000, 3072)\n",
            "training_labels (50000,)\n"
          ]
        }
      ],
      "source": [
        "!python load.py"
      ]
    },
    {
      "cell_type": "code",
      "execution_count": 5,
      "metadata": {
        "id": "1lrNrT0CUCrX"
      },
      "outputs": [],
      "source": [
        "import numpy as np\n",
        "import pandas as pd\n",
        "import random\n",
        "import matplotlib.pyplot as plt\n",
        "from sklearn import svm\n",
        "from sklearn.metrics import accuracy_score"
      ]
    },
    {
      "cell_type": "code",
      "execution_count": 6,
      "metadata": {
        "id": "mNxNvJLFeKsD"
      },
      "outputs": [],
      "source": [
        "# 2 Data Partitioning\n",
        "# 2(a) For the MNIST dataset, set aside 10,000 training images as a validation set\n",
        "MNIST = np.load(\"/content/gdrive/My Drive/cs189_hw/cs189_hw1/hw1/data/mnist-data.npz\")\n",
        "\n",
        "shuffler = np.random.RandomState(seed=7777777).permutation(60000)\n",
        "training_indices = list(range(0, 50000))\n",
        "validation_indices = list(range(50000, 60000))\n",
        "\n",
        "MNIST_data = {'training': MNIST[\"training_data\"][shuffler][training_indices], \n",
        "              'validation': MNIST[\"training_data\"][shuffler][validation_indices]}\n",
        "MNIST_labels = {'training': MNIST[\"training_labels\"][shuffler][training_indices], \n",
        "                'validation': MNIST[\"training_labels\"][shuffler][validation_indices]}"
      ]
    },
    {
      "cell_type": "code",
      "execution_count": 7,
      "metadata": {
        "id": "mtz78yxngbd3"
      },
      "outputs": [],
      "source": [
        "# 2(b) For the spam dataset, set aside 20% of the training data as a validation set\n",
        "spam = np.load(\"/content/gdrive/My Drive/cs189_hw/cs189_hw1/hw1/data/spam-data.npz\")\n",
        "\n",
        "shuffler = np.random.RandomState(seed=7777777).permutation(4172)\n",
        "training_indices = list(range(0, round(4172*0.8)))\n",
        "validation_indices = list(range(round(4172*0.8), 4172))\n",
        "\n",
        "spam_data = {'training': spam[\"training_data\"][shuffler][training_indices], \n",
        "              'validation': spam[\"training_data\"][shuffler][validation_indices]}\n",
        "spam_labels = {'training': spam[\"training_labels\"][shuffler][training_indices], \n",
        "                'validation': spam[\"training_labels\"][shuffler][validation_indices]}"
      ]
    },
    {
      "cell_type": "code",
      "execution_count": 8,
      "metadata": {
        "id": "xDOfFC7v48KA"
      },
      "outputs": [],
      "source": [
        "# 2(c) For the CIFAR-10 dataset, set aside 5,000 training images as a validation set\n",
        "CIFAR10 = np.load(\"/content/gdrive/My Drive/cs189_hw/cs189_hw1/hw1/data/cifar10-data.npz\")\n",
        "\n",
        "shuffler = np.random.RandomState(seed=7777777).permutation(50000)\n",
        "training_indices = list(range(0, 45000))\n",
        "validation_indices = list(range(45000, 50000))\n",
        "\n",
        "CIFAR10_data = {'training': CIFAR10[\"training_data\"][shuffler][training_indices], \n",
        "              'validation': CIFAR10[\"training_data\"][shuffler][validation_indices]}\n",
        "CIFAR10_labels = {'training': CIFAR10[\"training_labels\"][shuffler][training_indices], \n",
        "                'validation': CIFAR10[\"training_labels\"][shuffler][validation_indices]}"
      ]
    },
    {
      "cell_type": "code",
      "execution_count": 9,
      "metadata": {
        "id": "gqrZZMlb7uG6"
      },
      "outputs": [],
      "source": [
        "# 3 Support Vector Machines\n",
        "# 3(a) For the MNIST dataset, use raw pixels as features.\n",
        "#      Train your model with different numbers of examples: 100, 200, 500, 1,000, 2,000, 5,000, 10,000\n",
        "\n",
        "row_vec_data_training = MNIST_data[\"training\"].reshape(50000, 28*28) #dtype=float32\n",
        "row_vec_data_validation = MNIST_data[\"validation\"].reshape(10000, 28*28) #dtype=float32"
      ]
    },
    {
      "cell_type": "code",
      "execution_count": 10,
      "metadata": {
        "id": "g6Phm2-vEn0C"
      },
      "outputs": [],
      "source": [
        "num_training_examples = [100, 200, 500, 1000, 2000, 5000, 10000]\n",
        "training_accuracy_list = []\n",
        "validation_accuracy_list = []\n",
        "\n",
        "for n in num_training_examples: # number of traning examples\n",
        "  # Train a classifier\n",
        "  classifier = svm.SVC(kernel='linear', C = 1.0)\n",
        "  classifier.fit(row_vec_data_training[range(0, n)],\n",
        "                 MNIST_labels[\"training\"][range(0, n)])\n",
        "  \n",
        "  # compute the classifier's accuracy on the training set\n",
        "  y_true_training = MNIST_labels[\"training\"][range(0, n)] # int64\n",
        "  y_pred_training = classifier.predict(row_vec_data_training[range(0, n)]) #int64\n",
        "  training_accuracy = accuracy_score(y_true_training, y_pred_training)\n",
        "  training_accuracy_list.append(training_accuracy)\n",
        "\n",
        "  # compute the classifier's accuracy on the validation set\n",
        "  y_true_validation = MNIST_labels[\"validation\"] #int64\n",
        "  y_pred_validation = classifier.predict(row_vec_data_validation) #int64\n",
        "  validation_accuracy = accuracy_score(y_true_validation, y_pred_validation)\n",
        "  validation_accuracy_list.append(validation_accuracy)"
      ]
    },
    {
      "cell_type": "code",
      "execution_count": 11,
      "metadata": {
        "colab": {
          "base_uri": "https://localhost:8080/"
        },
        "id": "SNTH0-DpMqxH",
        "outputId": "d021f483-f6da-456d-8400-be2e4fb62b4c"
      },
      "outputs": [
        {
          "output_type": "execute_result",
          "data": {
            "text/plain": [
              "[1.0, 1.0, 1.0, 1.0, 1.0, 0.9998, 0.9958]"
            ]
          },
          "metadata": {},
          "execution_count": 11
        }
      ],
      "source": [
        "training_accuracy_list"
      ]
    },
    {
      "cell_type": "code",
      "execution_count": 12,
      "metadata": {
        "colab": {
          "base_uri": "https://localhost:8080/"
        },
        "id": "Vex6YfWdMknN",
        "outputId": "030b4eb7-7717-4af4-b7b3-dfc5489eb572"
      },
      "outputs": [
        {
          "output_type": "execute_result",
          "data": {
            "text/plain": [
              "[0.7342, 0.8057, 0.8452, 0.8802, 0.8944, 0.9018, 0.9142]"
            ]
          },
          "metadata": {},
          "execution_count": 12
        }
      ],
      "source": [
        "validation_accuracy_list"
      ]
    },
    {
      "cell_type": "code",
      "execution_count": 13,
      "metadata": {
        "colab": {
          "base_uri": "https://localhost:8080/",
          "height": 300
        },
        "id": "ehCFOHcnZu5t",
        "outputId": "9563e1d5-bb45-4fd7-9a0b-3dbeb89debd2"
      },
      "outputs": [
        {
          "output_type": "display_data",
          "data": {
            "text/plain": [
              "<Figure size 432x288 with 1 Axes>"
            ],
            "image/png": "[encoded data removed]"
          },
          "metadata": {
            "needs_background": "light"
          }
        }
      ],
      "source": [
        "# Plot the accuracy on the training and validation sets versus the number of training \n",
        "# examples that you used to train your classifier.\n",
        "plt.plot(num_training_examples, training_accuracy_list, 'o--', label=\"training\")\n",
        "plt.plot(num_training_examples, validation_accuracy_list, 'o--', label=\"validation\")\n",
        "plt.xlabel('number of training examples', fontsize=13)\n",
        "plt.ylabel('accuracy', fontsize=13)\n",
        "plt.legend(loc=\"lower right\")\n",
        "plt.title(\"3(a) MNIST: Accuracy vs # Training Examples\", fontsize=16)\n",
        "plt.show()"
      ]
    },
    {
      "cell_type": "code",
      "execution_count": 13,
      "metadata": {
        "id": "SpzrnW19SUnm"
      },
      "outputs": [],
      "source": [
        "# 3(b) For the spam dataset, use the provided word frquencies as features.\n",
        "#      Train your model with the following numbers of training examples: 100, 200, 500, 2000, ALL\n",
        "num_training_examples = [100, 200, 500, 1000, 2000, round(4172*0.8)]\n",
        "training_accuracy_list = []\n",
        "validation_accuracy_list = []\n",
        "\n",
        "for n in num_training_examples: # number of traning examples\n",
        "  # Train a classifier\n",
        "  classifier = svm.SVC(kernel='linear', C = 1.0)\n",
        "  classifier.fit(spam_data[\"training\"][range(0, n)],\n",
        "                 spam_labels[\"training\"][range(0, n)])\n",
        "  \n",
        "  # compute the classifier's accuracy on the training set\n",
        "  y_true_training = spam_labels[\"training\"][range(0, n)] # int64\n",
        "  y_pred_training = classifier.predict(spam_data[\"training\"][range(0, n)]) #int64\n",
        "  training_accuracy = accuracy_score(y_true_training, y_pred_training)\n",
        "  training_accuracy_list.append(training_accuracy)\n",
        "\n",
        "  # compute the classifier's accuracy on the validation set\n",
        "  y_true_validation = spam_labels[\"validation\"] #int64\n",
        "  y_pred_validation = classifier.predict(spam_data[\"validation\"]) #int64\n",
        "  validation_accuracy = accuracy_score(y_true_validation, y_pred_validation)\n",
        "  validation_accuracy_list.append(validation_accuracy)"
      ]
    },
    {
      "cell_type": "code",
      "execution_count": 14,
      "metadata": {
        "colab": {
          "base_uri": "https://localhost:8080/"
        },
        "id": "eP42A2ydUcZU",
        "outputId": "88e00854-a361-477b-d3d7-f6436b5533ed"
      },
      "outputs": [
        {
          "output_type": "execute_result",
          "data": {
            "text/plain": [
              "[0.8, 0.825, 0.802, 0.798, 0.796, 0.799281006590773]"
            ]
          },
          "metadata": {},
          "execution_count": 14
        }
      ],
      "source": [
        "training_accuracy_list"
      ]
    },
    {
      "cell_type": "code",
      "execution_count": 15,
      "metadata": {
        "colab": {
          "base_uri": "https://localhost:8080/"
        },
        "id": "xCrkmktyUge2",
        "outputId": "5884439e-ebab-4dd3-fb4f-e35328af4fd2"
      },
      "outputs": [
        {
          "output_type": "execute_result",
          "data": {
            "text/plain": [
              "[0.7709832134292566,\n",
              " 0.8045563549160671,\n",
              " 0.8057553956834532,\n",
              " 0.8093525179856115,\n",
              " 0.8081534772182254,\n",
              " 0.815347721822542]"
            ]
          },
          "metadata": {},
          "execution_count": 15
        }
      ],
      "source": [
        "validation_accuracy_list"
      ]
    },
    {
      "cell_type": "code",
      "execution_count": 16,
      "metadata": {
        "colab": {
          "base_uri": "https://localhost:8080/",
          "height": 300
        },
        "id": "DFrmEZn-UjcY",
        "outputId": "fed5e0ee-242b-4a40-ff8e-71ecacd2e3ee"
      },
      "outputs": [
        {
          "output_type": "display_data",
          "data": {
            "text/plain": [
              "<Figure size 432x288 with 1 Axes>"
            ],
            "image/png": "[encoded data removed]"
          },
          "metadata": {
            "needs_background": "light"
          }
        }
      ],
      "source": [
        "plt.plot(num_training_examples, training_accuracy_list, 'o--', label=\"training\")\n",
        "plt.plot(num_training_examples, validation_accuracy_list, 'o--', label=\"validation\")\n",
        "plt.xlabel('number of training examples', fontsize=13)\n",
        "plt.ylabel('accuracy', fontsize=13)\n",
        "plt.legend(loc=\"upper right\")\n",
        "plt.title(\"3(b) spam: Accuracy vs # Training Examples\", fontsize=16)\n",
        "plt.show()"
      ]
    },
    {
      "cell_type": "code",
      "execution_count": 17,
      "metadata": {
        "id": "GLNPSjKOZDMQ"
      },
      "outputs": [],
      "source": [
        "# 3(c) For the CIFAR-10 dataset, use raw pixels as features.\n",
        "#      Train your model with the following numbers of training examples: 100, 200, 500, \n",
        "#      1000, 2000, 5000\n",
        "num_training_examples = [100, 200, 500, 1000, 2000, 5000]\n",
        "training_accuracy_list = []\n",
        "validation_accuracy_list = []\n",
        "\n",
        "for n in num_training_examples: # number of traning examples\n",
        "  # Train a classifier\n",
        "  classifier = svm.SVC(kernel='linear', C = 1.0)\n",
        "  classifier.fit(CIFAR10_data[\"training\"][range(0, n)],\n",
        "                 CIFAR10_labels[\"training\"][range(0, n)])\n",
        "  \n",
        "  # compute the classifier's accuracy on the training set\n",
        "  y_true_training = CIFAR10_labels[\"training\"][range(0, n)] # int64\n",
        "  y_pred_training = classifier.predict(CIFAR10_data[\"training\"][range(0, n)]) #int64\n",
        "  training_accuracy = accuracy_score(y_true_training, y_pred_training)\n",
        "  training_accuracy_list.append(training_accuracy)\n",
        "\n",
        "  # compute the classifier's accuracy on the validation set\n",
        "  y_true_validation = CIFAR10_labels[\"validation\"] #int64\n",
        "  y_pred_validation = classifier.predict(CIFAR10_data[\"validation\"]) #int64\n",
        "  validation_accuracy = accuracy_score(y_true_validation, y_pred_validation)\n",
        "  validation_accuracy_list.append(validation_accuracy)"
      ]
    },
    {
      "cell_type": "code",
      "execution_count": 18,
      "metadata": {
        "colab": {
          "base_uri": "https://localhost:8080/"
        },
        "id": "OEDDa4HZjTnl",
        "outputId": "6ec89dbf-1194-4915-dbfe-7825ecebda19"
      },
      "outputs": [
        {
          "output_type": "execute_result",
          "data": {
            "text/plain": [
              "[1.0, 1.0, 1.0, 1.0, 1.0, 1.0]"
            ]
          },
          "metadata": {},
          "execution_count": 18
        }
      ],
      "source": [
        "training_accuracy_list"
      ]
    },
    {
      "cell_type": "code",
      "execution_count": 19,
      "metadata": {
        "colab": {
          "base_uri": "https://localhost:8080/"
        },
        "id": "A96CFlFpjWKD",
        "outputId": "dd975c92-d8f1-481e-d971-89244fbf759f"
      },
      "outputs": [
        {
          "output_type": "execute_result",
          "data": {
            "text/plain": [
              "[0.235, 0.2412, 0.2596, 0.2746, 0.2952, 0.2948]"
            ]
          },
          "metadata": {},
          "execution_count": 19
        }
      ],
      "source": [
        "validation_accuracy_list"
      ]
    },
    {
      "cell_type": "code",
      "execution_count": 20,
      "metadata": {
        "colab": {
          "base_uri": "https://localhost:8080/",
          "height": 300
        },
        "id": "gmLLDpuljY5d",
        "outputId": "de066212-e73b-4d8e-f798-9ddfe637bf7c"
      },
      "outputs": [
        {
          "output_type": "display_data",
          "data": {
            "text/plain": [
              "<Figure size 432x288 with 1 Axes>"
            ],
            "image/png": "[encoded data removed]"
          },
          "metadata": {
            "needs_background": "light"
          }
        }
      ],
      "source": [
        "plt.plot(num_training_examples, training_accuracy_list, 'o--', label=\"training\")\n",
        "plt.plot(num_training_examples, validation_accuracy_list, 'o--', label=\"validation\")\n",
        "plt.xlabel('number of training examples', fontsize=13)\n",
        "plt.ylabel('accuracy', fontsize=13)\n",
        "plt.legend(loc=\"upper right\")\n",
        "plt.title(\"3(c) CIFAR-10: Accuracy vs # Training Examples\", fontsize=16)\n",
        "plt.show()"
      ]
    },
    {
      "cell_type": "code",
      "execution_count": 22,
      "metadata": {
        "id": "e4xaAxnRw9Nh"
      },
      "outputs": [],
      "source": [
        "# 4 Hyperparameter Tuning\n",
        "# For the MNIST dataset, try at least eight C values and find the C value that yields the highest accuracy\n",
        "\n",
        "row_vec_data_training = MNIST_data[\"training\"].reshape(50000, 28*28) #dtype=float32\n",
        "row_vec_data_validation = MNIST_data[\"validation\"].reshape(10000, 28*28) #dtype=float32\n",
        "\n",
        "c_values = [1/1024, 1/256, 1/64, 1/16, 1/4, 1, 4, 16]\n",
        "validation_accuracy_list = []\n",
        "\n",
        "for c in c_values: # hyperparameter c\n",
        "  # Train a classifier\n",
        "  n = 10000 # number of training examples\n",
        "  classifier = svm.SVC(kernel='linear', C = c)\n",
        "  classifier.fit(row_vec_data_training[range(0, n)],\n",
        "                 MNIST_labels[\"training\"][range(0, n)])\n",
        "\n",
        "  # compute the classifier's accuracy on the validation set\n",
        "  y_true_validation = MNIST_labels[\"validation\"] #int64\n",
        "  y_pred_validation = classifier.predict(row_vec_data_validation) #int64\n",
        "  validation_accuracy = accuracy_score(y_true_validation, y_pred_validation)\n",
        "  validation_accuracy_list.append(validation_accuracy)\n",
        "\n"
      ]
    },
    {
      "cell_type": "code",
      "execution_count": 23,
      "metadata": {
        "colab": {
          "base_uri": "https://localhost:8080/"
        },
        "id": "HaRwl9chzF-2",
        "outputId": "4ba91f2c-1748-414a-8363-f594b988ee90"
      },
      "outputs": [
        {
          "output_type": "execute_result",
          "data": {
            "text/plain": [
              "[0.8973, 0.9183, 0.9269, 0.9276, 0.9209, 0.9142, 0.9082, 0.9085]"
            ]
          },
          "metadata": {},
          "execution_count": 23
        }
      ],
      "source": [
        "validation_accuracy_list"
      ]
    },
    {
      "cell_type": "code",
      "execution_count": 24,
      "metadata": {
        "colab": {
          "base_uri": "https://localhost:8080/",
          "height": 300
        },
        "id": "p8y2OPZv1LKz",
        "outputId": "13c1d191-0d28-4238-bb0c-8f63cc2a9faa"
      },
      "outputs": [
        {
          "output_type": "display_data",
          "data": {
            "text/plain": [
              "<Figure size 432x288 with 1 Axes>"
            ],
            "image/png": "[encoded data removed]"
          },
          "metadata": {
            "needs_background": "light"
          }
        }
      ],
      "source": [
        "plt.plot(c_values, validation_accuracy_list, 'o--')\n",
        "plt.xlabel('The value of hyperparameter C', fontsize=13)\n",
        "plt.ylabel('accuracy on validation set', fontsize=13)\n",
        "plt.title(\"4: Validation Accuracy vs C value\", fontsize=16)\n",
        "plt.show()"
      ]
    },
    {
      "cell_type": "markdown",
      "metadata": {
        "id": "UICL9i-34TkS"
      },
      "source": [
        "For the MNIST dataset, I tried $\\frac{1}{1024}$, $\\frac{1}{256}$, $\\frac{1}{64}$, $\\frac{1}{16}$, $\\frac{1}{4}$, $1$, $4$, $16$ these eight values to find the best $C$ value that yields the highest accuracy on the validation set. Their corresponding accuracy on validation set is $0.9053$,  $0.9223$,  $0.9308$,  $0.9298$,  $0.922$,  $0.9155$,  $0.9115$,  $0.9115$.\n",
        "\n",
        "$\\frac{1}{64}$ (aprroximately $0.16$) is the best $C$ value."
      ]
    },
    {
      "cell_type": "code",
      "execution_count": 25,
      "metadata": {
        "id": "hcMq1p9b3KYM"
      },
      "outputs": [],
      "source": [
        "# 5 K-Fold Cross-Vlidation\n",
        "# For the spam dataset, use 5-fold cross-validation to find and report the best C value\n",
        "\n",
        "n = 4172  # the total number of training examples\n",
        "shuffler = np.random.RandomState(seed=7777777).permutation(n)\n",
        "\n",
        "c_values = [1/1024, 1/512, 1/256, 1/128, 1/64, 1/32, 1/16, 1/8, 1/4, 1/2, 1, 2, 4, 8, 16, 32]\n",
        "avg_acc_for_each_c = []\n",
        "for c in c_values: # hyperparameter c\n",
        "  ###\n",
        "  acc_for_each_fold_list = []\n",
        "  for a in range(5): # choose each 1/5 as the validation set\n",
        "    validation_indices = list(range(n//5*a, n//5*(a+1)))\n",
        "    training_indices = [i for i in range(n) if i not in validation_indices]\n",
        "\n",
        "    spam_data = {'training': spam[\"training_data\"][shuffler][training_indices], \n",
        "                 'validation': spam[\"training_data\"][shuffler][validation_indices]}\n",
        "    spam_labels = {'training': spam[\"training_labels\"][shuffler][training_indices], \n",
        "                   'validation': spam[\"training_labels\"][shuffler][validation_indices]}\n",
        "\n",
        "    # Train a classifier\n",
        "    classifier = svm.SVC(kernel='linear', C = c)\n",
        "    classifier.fit(spam_data[\"training\"],\n",
        "                   spam_labels[\"training\"])\n",
        "\n",
        "    # compute the classifier's accuracy on the validation set\n",
        "    y_true_validation = spam_labels[\"validation\"] #int64\n",
        "    y_pred_validation = classifier.predict(spam_data[\"validation\"]) #int64\n",
        "    acc_for_each_fold = accuracy_score(y_true_validation, y_pred_validation)\n",
        "    acc_for_each_fold_list.append(acc_for_each_fold)\n",
        "  ###\n",
        "  avg_acc_for_this_c = np.mean(acc_for_each_fold_list)\n",
        "  avg_acc_for_each_c.append(avg_acc_for_this_c)\n",
        "\n",
        "  "
      ]
    },
    {
      "cell_type": "code",
      "execution_count": 26,
      "metadata": {
        "colab": {
          "base_uri": "https://localhost:8080/"
        },
        "id": "NMQPE9gYDnxI",
        "outputId": "1c872954-b02b-4a47-fe5c-68fad6fb2bc6"
      },
      "outputs": [
        {
          "output_type": "execute_result",
          "data": {
            "text/plain": [
              "[0.746043165467626,\n",
              " 0.7606714628297363,\n",
              " 0.7678657074340528,\n",
              " 0.7772182254196643,\n",
              " 0.782494004796163,\n",
              " 0.7894484412470024,\n",
              " 0.7942446043165468,\n",
              " 0.7947242206235011,\n",
              " 0.8002398081534772,\n",
              " 0.8007194244604315,\n",
              " 0.8007194244604315,\n",
              " 0.8033573141486811,\n",
              " 0.8033573141486811,\n",
              " 0.8043165467625899,\n",
              " 0.8043165467625899,\n",
              " 0.8043165467625899]"
            ]
          },
          "metadata": {},
          "execution_count": 26
        }
      ],
      "source": [
        "avg_acc_for_each_c"
      ]
    },
    {
      "cell_type": "code",
      "execution_count": 27,
      "metadata": {
        "colab": {
          "base_uri": "https://localhost:8080/"
        },
        "id": "Y8HBIUZUVL-B",
        "outputId": "b6945341-9a65-4772-da94-d9dc63d55fd2"
      },
      "outputs": [
        {
          "output_type": "execute_result",
          "data": {
            "text/plain": [
              "[0.746,\n",
              " 0.7607,\n",
              " 0.7679,\n",
              " 0.7772,\n",
              " 0.7825,\n",
              " 0.7894,\n",
              " 0.7942,\n",
              " 0.7947,\n",
              " 0.8002,\n",
              " 0.8007,\n",
              " 0.8007,\n",
              " 0.8034,\n",
              " 0.8034,\n",
              " 0.8043,\n",
              " 0.8043,\n",
              " 0.8043]"
            ]
          },
          "metadata": {},
          "execution_count": 27
        }
      ],
      "source": [
        "[round(_, 4) for _ in avg_acc_for_each_c]"
      ]
    },
    {
      "cell_type": "code",
      "execution_count": 28,
      "metadata": {
        "colab": {
          "base_uri": "https://localhost:8080/",
          "height": 314
        },
        "id": "TrQJ8KKdQ5r-",
        "outputId": "fd5e2965-1723-44cd-c20a-3ab76df3e805"
      },
      "outputs": [
        {
          "output_type": "display_data",
          "data": {
            "text/plain": [
              "<Figure size 432x288 with 1 Axes>"
            ],
            "image/png": "[encoded data removed]"
          },
          "metadata": {
            "needs_background": "light"
          }
        }
      ],
      "source": [
        "plt.plot(c_values, avg_acc_for_each_c, 'o--')\n",
        "plt.xlabel('The value of hyperparameter C', fontsize=13)\n",
        "plt.ylabel('average accuracy of 5-fold cross-validation', fontsize=13)\n",
        "plt.title(\"4: Average Accuracy vs C value\", fontsize=16)\n",
        "plt.show()"
      ]
    },
    {
      "cell_type": "markdown",
      "metadata": {
        "id": "n2gTujT_Snle"
      },
      "source": [
        "For the spam dataset, I tried $\\frac{1}{1024}$, $\\frac{1}{512}$, $\\frac{1}{256}$, $\\frac{1}{128}$, $\\frac{1}{64}$, $\\frac{1}{32}$, $\\frac{1}{16}$, $\\frac{1}{8}$, $\\frac{1}{4}$, $\\frac{1}{2}$, $1$, $2$, $4$, $8$, $16$ these sixteen values to find the best $C$ value that yields the highest accuracy on the validation set. Their corresponding accuracy on validation set are shown in the two code cells above the graph.\n",
        "\n",
        "Among all the C values I tried, $16$ yields the highest average accuracy in 5-fold cross validation and hence is the best $C$ value. \n",
        "\n",
        "Due to the randomness, any number that greater than $1$ can be equivalently good value for the hyperparameter $C$. They yield closely enough accuracy (around $0.8$). However, the smaller tha value C has, the faster the training computation is. "
      ]
    },
    {
      "cell_type": "code",
      "execution_count": 28,
      "metadata": {
        "id": "2Glv8ckC7ZHL"
      },
      "outputs": [],
      "source": [
        "!python save_csv.py"
      ]
    },
    {
      "cell_type": "code",
      "execution_count": 29,
      "metadata": {
        "id": "9Ir9jPypkkZa"
      },
      "outputs": [],
      "source": [
        "# code copy paste from save_csv.py provided by course staff\n",
        "# A code snippet to help you save your results into a kaggle accepted csv\n",
        "import pandas as pd\n",
        "import numpy as np\n",
        "\n",
        "# Usage: results_to_csv(clf.predict(X_test))\n",
        "def results_to_csv(y_test):\n",
        "    y_test = y_test.astype(int)\n",
        "    df = pd.DataFrame({'Category': y_test})\n",
        "    df.index += 1 # Ensures that the index starts at 1\n",
        "    df.to_csv('submission.csv', index_label='Id')"
      ]
    },
    {
      "cell_type": "code",
      "execution_count": null,
      "metadata": {
        "id": "fIpVNfIoVGda"
      },
      "outputs": [],
      "source": [
        "# 6 MNIST\n",
        "MNIST_classifier = svm.SVC(gamma=0.01, C=0.16)\n",
        "MNIST_classifier.fit(row_vec_data_training[range(0, 10000)],\n",
        "                     MNIST_labels[\"training\"][range(0, 10000)])"
      ]
    },
    {
      "cell_type": "code",
      "execution_count": null,
      "metadata": {
        "id": "7Vie7EnG6UqM"
      },
      "outputs": [],
      "source": [
        "y_true_validation = MNIST_labels[\"validation\"] # int64\n",
        "y_pred_validation = MNIST_classifier.predict(row_vec_data_validation) #int64\n",
        "accuracy = accuracy_score(y_true_validation, y_pred_validation)\n",
        "accuracy"
      ]
    },
    {
      "cell_type": "code",
      "execution_count": null,
      "metadata": {
        "id": "3TitYohekiIg"
      },
      "outputs": [],
      "source": [
        "results_to_csv(MNIST_classifier.predict(MNIST[\"test_data\"].reshape(10000, 28*28)))"
      ]
    },
    {
      "cell_type": "code",
      "execution_count": null,
      "metadata": {
        "id": "MfNIk8xcnuVO"
      },
      "outputs": [],
      "source": [
        "!python check.py mnist submission.csv"
      ]
    },
    {
      "cell_type": "code",
      "execution_count": 28,
      "metadata": {
        "colab": {
          "base_uri": "https://localhost:8080/"
        },
        "id": "9KpmCdD5qdLp",
        "outputId": "c471c718-c81e-4970-b770-1f75b81f5b0b"
      },
      "outputs": [
        {
          "output_type": "execute_result",
          "data": {
            "text/plain": [
              "SVC(C=1, kernel='linear')"
            ]
          },
          "metadata": {},
          "execution_count": 28
        }
      ],
      "source": [
        "# 6 spam\n",
        "spam_clf = svm.SVC(kernel='linear', C = 1)\n",
        "spam_clf.fit(spam_data[\"training\"][range(round(4172*0.8))],\n",
        "             spam_labels[\"training\"][range(round(4172*0.8))])"
      ]
    },
    {
      "cell_type": "code",
      "execution_count": 29,
      "metadata": {
        "colab": {
          "base_uri": "https://localhost:8080/"
        },
        "id": "VWjseeMhH49S",
        "outputId": "21262056-ca0a-4c36-fd06-5910e5b4aac8"
      },
      "outputs": [
        {
          "output_type": "execute_result",
          "data": {
            "text/plain": [
              "0.815347721822542"
            ]
          },
          "metadata": {},
          "execution_count": 29
        }
      ],
      "source": [
        "y_true_validation = spam_labels[\"validation\"] # int64\n",
        "y_pred_validation = spam_clf.predict(spam_data[\"validation\"]) #int64\n",
        "accuracy = accuracy_score(y_true_validation, y_pred_validation)\n",
        "accuracy"
      ]
    },
    {
      "cell_type": "code",
      "execution_count": null,
      "metadata": {
        "id": "TgJJY03lrMXY"
      },
      "outputs": [],
      "source": [
        "results_to_csv(spam_clf.predict(spam[\"test_data\"]))"
      ]
    },
    {
      "cell_type": "code",
      "execution_count": null,
      "metadata": {
        "id": "mv6prE90rapR"
      },
      "outputs": [],
      "source": [
        "!python check.py spam submission.csv"
      ]
    },
    {
      "cell_type": "code",
      "execution_count": null,
      "metadata": {
        "colab": {
          "background_save": true
        },
        "id": "EG3SOmtassUe"
      },
      "outputs": [],
      "source": [
        "# 6 CIFAR10\n",
        "cifar_clf = svm.SVC(kernel='linear', C = 0.01)\n",
        "cifar_clf.fit(CIFAR10_data[\"training\"][range(0, 5000)],\n",
        "              CIFAR10_labels[\"training\"][range(0, 5000)])\n",
        "results_to_csv(cifar_clf.predict(CIFAR10[\"test_data\"]))"
      ]
    },
    {
      "cell_type": "code",
      "execution_count": null,
      "metadata": {
        "id": "et-ha7lNYPgt"
      },
      "outputs": [],
      "source": [
        "y_true_validation = CIFAR10_labels[\"validation\"]# int64\n",
        "y_pred_validation = cifar_clf.predict(CIFAR10_data[\"validation\"]) #int64\n",
        "accuracy = accuracy_score(y_true_validation, y_pred_validation)\n",
        "accuracy"
      ]
    },
    {
      "cell_type": "code",
      "execution_count": null,
      "metadata": {
        "id": "E7vL56jqxh5y"
      },
      "outputs": [],
      "source": [
        "!python check.py cifar10 submission.csv"
      ]
    }
  ],
  "metadata": {
    "colab": {
      "provenance": []
    },
    "kernelspec": {
      "display_name": "Python 3",
      "name": "python3"
    },
    "language_info": {
      "name": "python"
    }
  },
  "nbformat": 4,
  "nbformat_minor": 0
}